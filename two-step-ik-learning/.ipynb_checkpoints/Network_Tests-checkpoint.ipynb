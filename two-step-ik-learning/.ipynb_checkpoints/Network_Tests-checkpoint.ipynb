{
 "cells": [
  {
   "cell_type": "code",
   "execution_count": 2,
   "id": "f85af370",
   "metadata": {},
   "outputs": [],
   "source": [
    "import torch\n",
    "import torch.nn as nn\n",
    "import torch.optim as optim\n",
    "from torch.utils.data import Dataset, DataLoader\n",
    "from sklearn.model_selection import train_test_split\n",
    "import pandas as pd\n",
    "import numpy as np"
   ]
  },
  {
   "cell_type": "code",
   "execution_count": 3,
   "id": "072ec4f0",
   "metadata": {},
   "outputs": [],
   "source": [
    "class MLP(nn.Module):\n",
    "    def __init__(self, input_size, hidden_size, output_size):\n",
    "        super(MLP, self).__init__()\n",
    "        self.fc1 = nn.Linear(input_size, hidden_size)\n",
    "        self.relu = nn.ReLU()\n",
    "        self.fc2 = nn.Linear(hidden_size, output_size)\n",
    "        \n",
    "    def forward(self, x):\n",
    "        out = self.fc1(x)\n",
    "        out = self.relu(out)\n",
    "        out = self.fc2(out)\n",
    "        return out"
   ]
  },
  {
   "cell_type": "code",
   "execution_count": 4,
   "id": "915b11a1",
   "metadata": {},
   "outputs": [],
   "source": [
    "class CustomDataset(Dataset):\n",
    "    def __init__(self, data, labels):\n",
    "        self.data = data\n",
    "        self.labels = labels\n",
    "    \n",
    "    def __len__(self):\n",
    "        return len(self.data)\n",
    "    \n",
    "    def __getitem__(self, idx):\n",
    "        sample = {\n",
    "            'data': torch.FloatTensor(self.data[idx]),\n",
    "            'label': torch.LongTensor([self.labels[idx]])\n",
    "        }\n",
    "        return sample"
   ]
  },
  {
   "cell_type": "code",
   "execution_count": 21,
   "id": "79d6d17c",
   "metadata": {},
   "outputs": [],
   "source": [
    "data = pd.read_csv('../ea-based-nn-ik-solver/datasets/6DoF-6R-Puma260/data_3DoF-3R.csv')\n"
   ]
  },
  {
   "cell_type": "code",
   "execution_count": 22,
   "id": "7db2472a",
   "metadata": {},
   "outputs": [
    {
     "data": {
      "text/html": [
       "<div>\n",
       "<style scoped>\n",
       "    .dataframe tbody tr th:only-of-type {\n",
       "        vertical-align: middle;\n",
       "    }\n",
       "\n",
       "    .dataframe tbody tr th {\n",
       "        vertical-align: top;\n",
       "    }\n",
       "\n",
       "    .dataframe thead th {\n",
       "        text-align: right;\n",
       "    }\n",
       "</style>\n",
       "<table border=\"1\" class=\"dataframe\">\n",
       "  <thead>\n",
       "    <tr style=\"text-align: right;\">\n",
       "      <th></th>\n",
       "      <th>x</th>\n",
       "      <th>y</th>\n",
       "      <th>t1</th>\n",
       "      <th>t2</th>\n",
       "      <th>t3</th>\n",
       "    </tr>\n",
       "  </thead>\n",
       "  <tbody>\n",
       "    <tr>\n",
       "      <th>0</th>\n",
       "      <td>-0.662464</td>\n",
       "      <td>0.261404</td>\n",
       "      <td>1.559036</td>\n",
       "      <td>2.413440</td>\n",
       "      <td>0.277960</td>\n",
       "    </tr>\n",
       "    <tr>\n",
       "      <th>1</th>\n",
       "      <td>1.104271</td>\n",
       "      <td>1.384958</td>\n",
       "      <td>0.414786</td>\n",
       "      <td>0.965797</td>\n",
       "      <td>1.992017</td>\n",
       "    </tr>\n",
       "    <tr>\n",
       "      <th>2</th>\n",
       "      <td>-0.317833</td>\n",
       "      <td>0.062374</td>\n",
       "      <td>1.539674</td>\n",
       "      <td>2.816264</td>\n",
       "      <td>1.431398</td>\n",
       "    </tr>\n",
       "    <tr>\n",
       "      <th>3</th>\n",
       "      <td>-1.402043</td>\n",
       "      <td>0.973882</td>\n",
       "      <td>1.986449</td>\n",
       "      <td>1.096081</td>\n",
       "      <td>1.262032</td>\n",
       "    </tr>\n",
       "    <tr>\n",
       "      <th>4</th>\n",
       "      <td>1.822524</td>\n",
       "      <td>0.635239</td>\n",
       "      <td>0.070138</td>\n",
       "      <td>0.530486</td>\n",
       "      <td>0.923278</td>\n",
       "    </tr>\n",
       "    <tr>\n",
       "      <th>...</th>\n",
       "      <td>...</td>\n",
       "      <td>...</td>\n",
       "      <td>...</td>\n",
       "      <td>...</td>\n",
       "      <td>...</td>\n",
       "    </tr>\n",
       "    <tr>\n",
       "      <th>9995</th>\n",
       "      <td>-0.209483</td>\n",
       "      <td>1.982495</td>\n",
       "      <td>1.595629</td>\n",
       "      <td>0.160886</td>\n",
       "      <td>0.089583</td>\n",
       "    </tr>\n",
       "    <tr>\n",
       "      <th>9996</th>\n",
       "      <td>-0.539031</td>\n",
       "      <td>0.578444</td>\n",
       "      <td>1.156573</td>\n",
       "      <td>2.328732</td>\n",
       "      <td>1.810257</td>\n",
       "    </tr>\n",
       "    <tr>\n",
       "      <th>9997</th>\n",
       "      <td>-1.566229</td>\n",
       "      <td>1.234747</td>\n",
       "      <td>2.399209</td>\n",
       "      <td>0.149565</td>\n",
       "      <td>0.496765</td>\n",
       "    </tr>\n",
       "    <tr>\n",
       "      <th>9998</th>\n",
       "      <td>-0.203919</td>\n",
       "      <td>1.430511</td>\n",
       "      <td>0.948987</td>\n",
       "      <td>1.526810</td>\n",
       "      <td>2.431233</td>\n",
       "    </tr>\n",
       "    <tr>\n",
       "      <th>9999</th>\n",
       "      <td>-0.609933</td>\n",
       "      <td>1.645851</td>\n",
       "      <td>1.425765</td>\n",
       "      <td>0.999857</td>\n",
       "      <td>0.219345</td>\n",
       "    </tr>\n",
       "  </tbody>\n",
       "</table>\n",
       "<p>10000 rows × 5 columns</p>\n",
       "</div>"
      ],
      "text/plain": [
       "             x         y        t1        t2        t3\n",
       "0    -0.662464  0.261404  1.559036  2.413440  0.277960\n",
       "1     1.104271  1.384958  0.414786  0.965797  1.992017\n",
       "2    -0.317833  0.062374  1.539674  2.816264  1.431398\n",
       "3    -1.402043  0.973882  1.986449  1.096081  1.262032\n",
       "4     1.822524  0.635239  0.070138  0.530486  0.923278\n",
       "...        ...       ...       ...       ...       ...\n",
       "9995 -0.209483  1.982495  1.595629  0.160886  0.089583\n",
       "9996 -0.539031  0.578444  1.156573  2.328732  1.810257\n",
       "9997 -1.566229  1.234747  2.399209  0.149565  0.496765\n",
       "9998 -0.203919  1.430511  0.948987  1.526810  2.431233\n",
       "9999 -0.609933  1.645851  1.425765  0.999857  0.219345\n",
       "\n",
       "[10000 rows x 5 columns]"
      ]
     },
     "execution_count": 22,
     "metadata": {},
     "output_type": "execute_result"
    }
   ],
   "source": [
    "data"
   ]
  },
  {
   "cell_type": "code",
   "execution_count": 18,
   "id": "7f193ef4",
   "metadata": {},
   "outputs": [],
   "source": [
    "data = np.array(data)\n",
    "joints = data[:,-3:]\n",
    "pos = data"
   ]
  },
  {
   "cell_type": "code",
   "execution_count": 20,
   "id": "8a5223f3",
   "metadata": {},
   "outputs": [
    {
     "data": {
      "text/plain": [
       "array([[1.5590361 , 2.41344   , 0.27796006],\n",
       "       [0.414786  , 0.9657973 , 1.992017  ],\n",
       "       [1.5396739 , 2.8162644 , 1.4313976 ],\n",
       "       ...,\n",
       "       [2.399209  , 0.14956519, 0.49676487],\n",
       "       [0.94898677, 1.5268102 , 2.4312332 ],\n",
       "       [1.4257648 , 0.99985737, 0.21934521]])"
      ]
     },
     "execution_count": 20,
     "metadata": {},
     "output_type": "execute_result"
    }
   ],
   "source": [
    "joints"
   ]
  },
  {
   "cell_type": "code",
   "execution_count": null,
   "id": "507e3ac1",
   "metadata": {},
   "outputs": [],
   "source": []
  }
 ],
 "metadata": {
  "kernelspec": {
   "display_name": "Python 3",
   "language": "python",
   "name": "python3"
  },
  "language_info": {
   "codemirror_mode": {
    "name": "ipython",
    "version": 3
   },
   "file_extension": ".py",
   "mimetype": "text/x-python",
   "name": "python",
   "nbconvert_exporter": "python",
   "pygments_lexer": "ipython3",
   "version": "3.6.13"
  }
 },
 "nbformat": 4,
 "nbformat_minor": 5
}
