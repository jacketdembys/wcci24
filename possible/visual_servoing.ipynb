{
 "cells": [
  {
   "cell_type": "markdown",
   "id": "a619876a-e33f-478d-97de-8ccaf7bea7e1",
   "metadata": {},
   "source": [
    "1. https://github.com/RauldeQueirozMendes/VSDataset/tree/main\n",
    "2. https://paperswithcode.com/dataset/visual-servoing\n",
    "3. https://www.google.com/search?q=Exploring+Convolutional+Networks+for+Visual+Servoing&oq=Exploring+Convolutional+Networks+for+Visual+Servoing&aqs=chrome..69i57j0i22i30j69i61l3.285j0j7&sourceid=chrome&ie=UTF-8\n",
    "4. https://github.com/apple/ml-fastvit/tree/main\n",
    "5. https://github.com/aseembits93\n",
    "6. https://aseembits93.github.io/\n",
    "7. https://scaron.info/robotics/installing-openrave-on-ubuntu-14.04.html"
   ]
  }
 ],
 "metadata": {
  "kernelspec": {
   "display_name": "Python 3 (ipykernel)",
   "language": "python",
   "name": "python3"
  },
  "language_info": {
   "codemirror_mode": {
    "name": "ipython",
    "version": 3
   },
   "file_extension": ".py",
   "mimetype": "text/x-python",
   "name": "python",
   "nbconvert_exporter": "python",
   "pygments_lexer": "ipython3",
   "version": "3.11.5"
  }
 },
 "nbformat": 4,
 "nbformat_minor": 5
}
